{
  "nbformat": 4,
  "nbformat_minor": 0,
  "metadata": {
    "colab": {
      "provenance": [],
      "include_colab_link": true
    },
    "kernelspec": {
      "name": "python3",
      "display_name": "Python 3"
    },
    "language_info": {
      "name": "python"
    }
  },
  "cells": [
    {
      "cell_type": "markdown",
      "metadata": {
        "id": "view-in-github",
        "colab_type": "text"
      },
      "source": [
        "<a href=\"https://colab.research.google.com/github/Obad00/Billets/blob/main/D%C3%A9s%C3%A9quilibr%C3%A9es_et_Analyse_par_Odds_Ratio.ipynb\" target=\"_parent\"><img src=\"https://colab.research.google.com/assets/colab-badge.svg\" alt=\"Open In Colab\"/></a>"
      ]
    },
    {
      "cell_type": "code",
      "execution_count": 7,
      "metadata": {
        "id": "WjRUWsD5jwxT",
        "colab": {
          "base_uri": "https://localhost:8080/",
          "height": 958
        },
        "outputId": "cd572f9f-cce9-49d0-ab78-9cb05c99a126"
      },
      "outputs": [
        {
          "output_type": "display_data",
          "data": {
            "text/plain": [
              "<IPython.core.display.HTML object>"
            ],
            "text/html": [
              "\n",
              "     <input type=\"file\" id=\"files-ebbb3986-a1ad-4330-a1fc-04add99c0d20\" name=\"files[]\" multiple disabled\n",
              "        style=\"border:none\" />\n",
              "     <output id=\"result-ebbb3986-a1ad-4330-a1fc-04add99c0d20\">\n",
              "      Upload widget is only available when the cell has been executed in the\n",
              "      current browser session. Please rerun this cell to enable.\n",
              "      </output>\n",
              "      <script>// Copyright 2017 Google LLC\n",
              "//\n",
              "// Licensed under the Apache License, Version 2.0 (the \"License\");\n",
              "// you may not use this file except in compliance with the License.\n",
              "// You may obtain a copy of the License at\n",
              "//\n",
              "//      http://www.apache.org/licenses/LICENSE-2.0\n",
              "//\n",
              "// Unless required by applicable law or agreed to in writing, software\n",
              "// distributed under the License is distributed on an \"AS IS\" BASIS,\n",
              "// WITHOUT WARRANTIES OR CONDITIONS OF ANY KIND, either express or implied.\n",
              "// See the License for the specific language governing permissions and\n",
              "// limitations under the License.\n",
              "\n",
              "/**\n",
              " * @fileoverview Helpers for google.colab Python module.\n",
              " */\n",
              "(function(scope) {\n",
              "function span(text, styleAttributes = {}) {\n",
              "  const element = document.createElement('span');\n",
              "  element.textContent = text;\n",
              "  for (const key of Object.keys(styleAttributes)) {\n",
              "    element.style[key] = styleAttributes[key];\n",
              "  }\n",
              "  return element;\n",
              "}\n",
              "\n",
              "// Max number of bytes which will be uploaded at a time.\n",
              "const MAX_PAYLOAD_SIZE = 100 * 1024;\n",
              "\n",
              "function _uploadFiles(inputId, outputId) {\n",
              "  const steps = uploadFilesStep(inputId, outputId);\n",
              "  const outputElement = document.getElementById(outputId);\n",
              "  // Cache steps on the outputElement to make it available for the next call\n",
              "  // to uploadFilesContinue from Python.\n",
              "  outputElement.steps = steps;\n",
              "\n",
              "  return _uploadFilesContinue(outputId);\n",
              "}\n",
              "\n",
              "// This is roughly an async generator (not supported in the browser yet),\n",
              "// where there are multiple asynchronous steps and the Python side is going\n",
              "// to poll for completion of each step.\n",
              "// This uses a Promise to block the python side on completion of each step,\n",
              "// then passes the result of the previous step as the input to the next step.\n",
              "function _uploadFilesContinue(outputId) {\n",
              "  const outputElement = document.getElementById(outputId);\n",
              "  const steps = outputElement.steps;\n",
              "\n",
              "  const next = steps.next(outputElement.lastPromiseValue);\n",
              "  return Promise.resolve(next.value.promise).then((value) => {\n",
              "    // Cache the last promise value to make it available to the next\n",
              "    // step of the generator.\n",
              "    outputElement.lastPromiseValue = value;\n",
              "    return next.value.response;\n",
              "  });\n",
              "}\n",
              "\n",
              "/**\n",
              " * Generator function which is called between each async step of the upload\n",
              " * process.\n",
              " * @param {string} inputId Element ID of the input file picker element.\n",
              " * @param {string} outputId Element ID of the output display.\n",
              " * @return {!Iterable<!Object>} Iterable of next steps.\n",
              " */\n",
              "function* uploadFilesStep(inputId, outputId) {\n",
              "  const inputElement = document.getElementById(inputId);\n",
              "  inputElement.disabled = false;\n",
              "\n",
              "  const outputElement = document.getElementById(outputId);\n",
              "  outputElement.innerHTML = '';\n",
              "\n",
              "  const pickedPromise = new Promise((resolve) => {\n",
              "    inputElement.addEventListener('change', (e) => {\n",
              "      resolve(e.target.files);\n",
              "    });\n",
              "  });\n",
              "\n",
              "  const cancel = document.createElement('button');\n",
              "  inputElement.parentElement.appendChild(cancel);\n",
              "  cancel.textContent = 'Cancel upload';\n",
              "  const cancelPromise = new Promise((resolve) => {\n",
              "    cancel.onclick = () => {\n",
              "      resolve(null);\n",
              "    };\n",
              "  });\n",
              "\n",
              "  // Wait for the user to pick the files.\n",
              "  const files = yield {\n",
              "    promise: Promise.race([pickedPromise, cancelPromise]),\n",
              "    response: {\n",
              "      action: 'starting',\n",
              "    }\n",
              "  };\n",
              "\n",
              "  cancel.remove();\n",
              "\n",
              "  // Disable the input element since further picks are not allowed.\n",
              "  inputElement.disabled = true;\n",
              "\n",
              "  if (!files) {\n",
              "    return {\n",
              "      response: {\n",
              "        action: 'complete',\n",
              "      }\n",
              "    };\n",
              "  }\n",
              "\n",
              "  for (const file of files) {\n",
              "    const li = document.createElement('li');\n",
              "    li.append(span(file.name, {fontWeight: 'bold'}));\n",
              "    li.append(span(\n",
              "        `(${file.type || 'n/a'}) - ${file.size} bytes, ` +\n",
              "        `last modified: ${\n",
              "            file.lastModifiedDate ? file.lastModifiedDate.toLocaleDateString() :\n",
              "                                    'n/a'} - `));\n",
              "    const percent = span('0% done');\n",
              "    li.appendChild(percent);\n",
              "\n",
              "    outputElement.appendChild(li);\n",
              "\n",
              "    const fileDataPromise = new Promise((resolve) => {\n",
              "      const reader = new FileReader();\n",
              "      reader.onload = (e) => {\n",
              "        resolve(e.target.result);\n",
              "      };\n",
              "      reader.readAsArrayBuffer(file);\n",
              "    });\n",
              "    // Wait for the data to be ready.\n",
              "    let fileData = yield {\n",
              "      promise: fileDataPromise,\n",
              "      response: {\n",
              "        action: 'continue',\n",
              "      }\n",
              "    };\n",
              "\n",
              "    // Use a chunked sending to avoid message size limits. See b/62115660.\n",
              "    let position = 0;\n",
              "    do {\n",
              "      const length = Math.min(fileData.byteLength - position, MAX_PAYLOAD_SIZE);\n",
              "      const chunk = new Uint8Array(fileData, position, length);\n",
              "      position += length;\n",
              "\n",
              "      const base64 = btoa(String.fromCharCode.apply(null, chunk));\n",
              "      yield {\n",
              "        response: {\n",
              "          action: 'append',\n",
              "          file: file.name,\n",
              "          data: base64,\n",
              "        },\n",
              "      };\n",
              "\n",
              "      let percentDone = fileData.byteLength === 0 ?\n",
              "          100 :\n",
              "          Math.round((position / fileData.byteLength) * 100);\n",
              "      percent.textContent = `${percentDone}% done`;\n",
              "\n",
              "    } while (position < fileData.byteLength);\n",
              "  }\n",
              "\n",
              "  // All done.\n",
              "  yield {\n",
              "    response: {\n",
              "      action: 'complete',\n",
              "    }\n",
              "  };\n",
              "}\n",
              "\n",
              "scope.google = scope.google || {};\n",
              "scope.google.colab = scope.google.colab || {};\n",
              "scope.google.colab._files = {\n",
              "  _uploadFiles,\n",
              "  _uploadFilesContinue,\n",
              "};\n",
              "})(self);\n",
              "</script> "
            ]
          },
          "metadata": {}
        },
        {
          "output_type": "stream",
          "name": "stdout",
          "text": [
            "Saving depression_data.csv to depression_data (6).csv\n",
            "\n",
            "Fichier téléchargé : depression_data (6).csv\n",
            "Aperçu des données:\n",
            "               Name  Age Marital Status    Education Level  \\\n",
            "0  Christine Barker   31        Married  Bachelor's Degree   \n",
            "1  Jacqueline Lewis   55        Married        High School   \n",
            "2    Shannon Church   78        Widowed    Master's Degree   \n",
            "3    Charles Jordan   58       Divorced    Master's Degree   \n",
            "4      Michael Rich   18         Single        High School   \n",
            "\n",
            "   Number of Children Smoking Status Physical Activity Level  \\\n",
            "0                   2     Non-smoker                  Active   \n",
            "1                   1     Non-smoker               Sedentary   \n",
            "2                   1     Non-smoker               Sedentary   \n",
            "3                   3     Non-smoker                Moderate   \n",
            "4                   0     Non-smoker               Sedentary   \n",
            "\n",
            "  Employment Status     Income Alcohol Consumption Dietary Habits  \\\n",
            "0        Unemployed   26265.67            Moderate       Moderate   \n",
            "1          Employed   42710.36                High      Unhealthy   \n",
            "2          Employed  125332.79                 Low      Unhealthy   \n",
            "3        Unemployed    9992.78            Moderate       Moderate   \n",
            "4        Unemployed    8595.08                 Low       Moderate   \n",
            "\n",
            "  Sleep Patterns History of Mental Illness History of Substance Abuse  \\\n",
            "0           Fair                       Yes                         No   \n",
            "1           Fair                       Yes                         No   \n",
            "2           Good                        No                         No   \n",
            "3           Poor                        No                         No   \n",
            "4           Fair                       Yes                         No   \n",
            "\n",
            "  Family History of Depression Chronic Medical Conditions  target  \n",
            "0                          Yes                        Yes       1  \n",
            "1                           No                        Yes       1  \n",
            "2                          Yes                         No       0  \n",
            "3                           No                         No       0  \n",
            "4                          Yes                        Yes       1  \n",
            "\n",
            "Colonnes: Index(['Name', 'Age', 'Marital Status', 'Education Level',\n",
            "       'Number of Children', 'Smoking Status', 'Physical Activity Level',\n",
            "       'Employment Status', 'Income', 'Alcohol Consumption', 'Dietary Habits',\n",
            "       'Sleep Patterns', 'History of Mental Illness',\n",
            "       'History of Substance Abuse', 'Family History of Depression',\n",
            "       'Chronic Medical Conditions', 'target'],\n",
            "      dtype='object')\n",
            "\n",
            "Distribution de la classe cible:\n",
            "target\n",
            "0    0.695904\n",
            "1    0.304096\n",
            "Name: proportion, dtype: float64\n"
          ]
        }
      ],
      "source": [
        "# Cellule 1: Importation des bibliothèques nécessaires\n",
        "from google.colab import files\n",
        "import numpy as np\n",
        "import pandas as pd\n",
        "import matplotlib.pyplot as plt\n",
        "import seaborn as sns\n",
        "from sklearn.model_selection import train_test_split\n",
        "from sklearn.ensemble import RandomForestClassifier\n",
        "from sklearn.metrics import classification_report, precision_score, recall_score, f1_score\n",
        "from sklearn.decomposition import PCA\n",
        "from sklearn.preprocessing import StandardScaler\n",
        "from imblearn.over_sampling import SMOTE, BorderlineSMOTE\n",
        "from xgboost import XGBClassifier\n",
        "from sklearn.svm import SVC\n",
        "import time\n",
        "import warnings\n",
        "warnings.filterwarnings('ignore')\n",
        "\n",
        "# Cellule 2: Chargement et préparation des données\n",
        "uploaded = files.upload()\n",
        "file_name = next(iter(uploaded))\n",
        "print(f\"\\nFichier téléchargé : {file_name}\")\n",
        "\n",
        "if file_name.endswith('.csv'):\n",
        "    data = pd.read_csv(file_name)\n",
        "\n",
        "    if 'History of Mental Illness' in data.columns:\n",
        "        data['target'] = data['History of Mental Illness'].apply(lambda x: 1 if x == 'Yes' else 0)\n",
        "    else:\n",
        "        raise ValueError(\"La colonne 'History of Mental Illness' est absente du fichier.\")\n",
        "\n",
        "    print(\"Aperçu des données:\")\n",
        "    print(data.head())\n",
        "    print(\"\\nColonnes:\", data.columns)\n",
        "    print(\"\\nDistribution de la classe cible:\")\n",
        "    print(data['target'].value_counts(normalize=True))\n",
        "\n",
        "    X = data.drop(['target', 'Name', 'History of Mental Illness'], axis=1, errors='ignore')\n",
        "    y = data['target']\n",
        "\n",
        "    X = pd.get_dummies(X)  # Encodage des colonnes catégorielles\n",
        "\n",
        "    X_train, X_test, y_train, y_test = train_test_split(X, y, test_size=0.3, stratify=y, random_state=42)\n",
        "\n",
        "    scaler = StandardScaler()\n",
        "    X_train_scaled = scaler.fit_transform(X_train)\n",
        "    X_test_scaled = scaler.transform(X_test)\n",
        "else:\n",
        "    print(\"Le fichier téléchargé n'est pas un fichier CSV.\")\n"
      ]
    },
    {
      "cell_type": "code",
      "source": [
        "# Cellule 3: Fonction d’évaluation\n",
        "def evaluate_model(y_true, y_pred, model_name):\n",
        "    print(f\"\\nÉvaluation du modèle: {model_name}\")\n",
        "    print(classification_report(y_true, y_pred))\n",
        "    precision = precision_score(y_true, y_pred, pos_label=1)\n",
        "    recall = recall_score(y_true, y_pred, pos_label=1)\n",
        "    f1 = f1_score(y_true, y_pred, pos_label=1)\n",
        "    return {'precision': precision, 'recall': recall, 'f1': f1}"
      ],
      "metadata": {
        "id": "Npx1gRRzatNH"
      },
      "execution_count": 8,
      "outputs": []
    },
    {
      "cell_type": "code",
      "source": [
        "# Cellule 4: Modèle XGBoost avec pondération\n",
        "scale_pos_weight = (y_train == 0).sum() / (y_train == 1).sum()\n",
        "start_time = time.time()\n",
        "xgb_model = XGBClassifier(scale_pos_weight=scale_pos_weight, use_label_encoder=False, eval_metric='logloss', random_state=42)\n",
        "xgb_model.fit(X_train_scaled, y_train)\n",
        "xgb_pred = xgb_model.predict(X_test_scaled)\n",
        "xgb_time = time.time() - start_time\n",
        "xgb_metrics = evaluate_model(y_test, xgb_pred, \"XGBoost avec scale_pos_weight\")\n",
        "print(f\"Temps de calcul: {xgb_time:.2f} secondes\")"
      ],
      "metadata": {
        "colab": {
          "base_uri": "https://localhost:8080/"
        },
        "id": "tjVBAhp9a0On",
        "outputId": "e38e49fb-037b-449d-fa9c-2d8b33647953"
      },
      "execution_count": 9,
      "outputs": [
        {
          "output_type": "stream",
          "name": "stdout",
          "text": [
            "\n",
            "Évaluation du modèle: XGBoost avec scale_pos_weight\n",
            "              precision    recall  f1-score   support\n",
            "\n",
            "           0       0.75      0.57      0.65     86383\n",
            "           1       0.37      0.57      0.45     37748\n",
            "\n",
            "    accuracy                           0.57    124131\n",
            "   macro avg       0.56      0.57      0.55    124131\n",
            "weighted avg       0.63      0.57      0.58    124131\n",
            "\n",
            "Temps de calcul: 6.13 secondes\n"
          ]
        }
      ]
    },
    {
      "cell_type": "code",
      "source": [
        "# 📦 Imports nécessaires\n",
        "import pandas as pd\n",
        "import numpy as np\n",
        "from sklearn.datasets import load_breast_cancer\n",
        "from sklearn.model_selection import train_test_split\n",
        "from sklearn.preprocessing import StandardScaler\n",
        "from sklearn.svm import SVC\n",
        "from sklearn.metrics import classification_report, confusion_matrix\n",
        "import time\n",
        "\n",
        "# 📊 Chargement des données\n",
        "data = load_breast_cancer()\n",
        "X = pd.DataFrame(data.data, columns=data.feature_names)\n",
        "y = pd.Series(data.target)\n",
        "\n",
        "# ✂️ Séparation train / test\n",
        "X_train, X_test, y_train, y_test = train_test_split(X, y, stratify=y, test_size=0.2, random_state=42)\n",
        "\n",
        "# 🔧 Normalisation des données\n",
        "scaler = StandardScaler()\n",
        "X_train_scaled = scaler.fit_transform(X_train)\n",
        "X_test_scaled = scaler.transform(X_test)\n",
        "\n",
        "# ✅ Fonction d'évaluation simple (si elle n'existe pas encore)\n",
        "def evaluate_model(y_true, y_pred, title=\"Modèle\"):\n",
        "    print(f\"\\n🔎 Résultats pour {title}\")\n",
        "    print(\"Matrice de confusion :\")\n",
        "    print(confusion_matrix(y_true, y_pred))\n",
        "    print(\"\\nRapport de classification :\")\n",
        "    print(classification_report(y_true, y_pred))\n"
      ],
      "metadata": {
        "id": "-wt985a-eSVT"
      },
      "execution_count": 5,
      "outputs": []
    },
    {
      "cell_type": "code",
      "source": [
        "# Cellule 5: SVM avec class_weight (⚠️ lent sur grands jeux)\n",
        "start_time = time.time()\n",
        "svm_model = SVC(class_weight='balanced', random_state=42)\n",
        "svm_model.fit(X_train_scaled, y_train)\n",
        "svm_pred = svm_model.predict(X_test_scaled)\n",
        "svm_time = time.time() - start_time\n",
        "svm_metrics = evaluate_model(y_test, svm_pred, \"SVM avec class_weight='balanced'\")\n",
        "print(f\"Temps de calcul: {svm_time:.2f} secondes\")"
      ],
      "metadata": {
        "colab": {
          "base_uri": "https://localhost:8080/"
        },
        "id": "6_bL6nEieUjs",
        "outputId": "a15a5dd7-d007-4ab5-b3bc-4b6aa96e909f"
      },
      "execution_count": 6,
      "outputs": [
        {
          "output_type": "stream",
          "name": "stdout",
          "text": [
            "\n",
            "🔎 Résultats pour SVM avec class_weight='balanced'\n",
            "Matrice de confusion :\n",
            "[[41  1]\n",
            " [ 3 69]]\n",
            "\n",
            "Rapport de classification :\n",
            "              precision    recall  f1-score   support\n",
            "\n",
            "           0       0.93      0.98      0.95        42\n",
            "           1       0.99      0.96      0.97        72\n",
            "\n",
            "    accuracy                           0.96       114\n",
            "   macro avg       0.96      0.97      0.96       114\n",
            "weighted avg       0.97      0.96      0.97       114\n",
            "\n",
            "Temps de calcul: 0.03 secondes\n"
          ]
        }
      ]
    },
    {
      "cell_type": "code",
      "source": [
        "# ✅ Imports nécessaires si pas encore faits\n",
        "from imblearn.over_sampling import SMOTE\n",
        "from sklearn.decomposition import PCA\n",
        "from sklearn.ensemble import RandomForestClassifier\n",
        "\n",
        "# 🚀 SMOTE + PCA + Random Forest\n",
        "start_time = time.time()\n",
        "smote = SMOTE(random_state=42)\n",
        "X_train_smote, y_train_smote = smote.fit_resample(X_train_scaled, y_train)\n",
        "\n",
        "pca = PCA(n_components=0.95)\n",
        "X_train_smote_pca = pca.fit_transform(X_train_smote)\n",
        "X_test_pca = pca.transform(X_test_scaled)\n",
        "\n",
        "rf_smote = RandomForestClassifier(random_state=42)\n",
        "rf_smote.fit(X_train_smote_pca, y_train_smote)\n",
        "rf_smote_pred = rf_smote.predict(X_test_pca)\n",
        "\n",
        "rf_smote_time = time.time() - start_time\n",
        "rf_smote_metrics = evaluate_model(y_test, rf_smote_pred, \"SMOTE + PCA + Random Forest\")\n",
        "print(f\"Temps de calcul: {rf_smote_time:.2f} secondes\")\n"
      ],
      "metadata": {
        "colab": {
          "base_uri": "https://localhost:8080/"
        },
        "id": "NmGJQojvedHj",
        "outputId": "457809ee-dc3e-4477-b475-99b43af1e9b5"
      },
      "execution_count": 8,
      "outputs": [
        {
          "output_type": "stream",
          "name": "stdout",
          "text": [
            "\n",
            "🔎 Résultats pour SMOTE + PCA + Random Forest\n",
            "Matrice de confusion :\n",
            "[[39  3]\n",
            " [ 6 66]]\n",
            "\n",
            "Rapport de classification :\n",
            "              precision    recall  f1-score   support\n",
            "\n",
            "           0       0.87      0.93      0.90        42\n",
            "           1       0.96      0.92      0.94        72\n",
            "\n",
            "    accuracy                           0.92       114\n",
            "   macro avg       0.91      0.92      0.92       114\n",
            "weighted avg       0.92      0.92      0.92       114\n",
            "\n",
            "Temps de calcul: 1.11 secondes\n"
          ]
        }
      ]
    },
    {
      "cell_type": "code",
      "source": [
        "# ✅ Import nécessaire\n",
        "from imblearn.over_sampling import BorderlineSMOTE\n",
        "from sklearn.ensemble import RandomForestClassifier  # au cas où ce n’est pas encore importé\n",
        "\n",
        "# 🚀 Borderline-SMOTE + Random Forest\n",
        "start_time = time.time()\n",
        "borderline_smote = BorderlineSMOTE(random_state=42)\n",
        "X_train_borderline, y_train_borderline = borderline_smote.fit_resample(X_train_scaled, y_train)\n",
        "\n",
        "rf_borderline = RandomForestClassifier(random_state=42)\n",
        "rf_borderline.fit(X_train_borderline, y_train_borderline)\n",
        "rf_borderline_pred = rf_borderline.predict(X_test_scaled)\n",
        "\n",
        "rf_borderline_time = time.time() - start_time\n",
        "rf_borderline_metrics = evaluate_model(y_test, rf_borderline_pred, \"Borderline-SMOTE + Random Forest\")\n",
        "print(f\"Temps de calcul: {rf_borderline_time:.2f} secondes\")"
      ],
      "metadata": {
        "colab": {
          "base_uri": "https://localhost:8080/"
        },
        "id": "PfZ6Q-LzestD",
        "outputId": "a8bd1781-9e12-499e-ebfa-c490bf59fe02"
      },
      "execution_count": 11,
      "outputs": [
        {
          "output_type": "stream",
          "name": "stdout",
          "text": [
            "\n",
            "🔎 Résultats pour Borderline-SMOTE + Random Forest\n",
            "Matrice de confusion :\n",
            "[[40  2]\n",
            " [ 5 67]]\n",
            "\n",
            "Rapport de classification :\n",
            "              precision    recall  f1-score   support\n",
            "\n",
            "           0       0.89      0.95      0.92        42\n",
            "           1       0.97      0.93      0.95        72\n",
            "\n",
            "    accuracy                           0.94       114\n",
            "   macro avg       0.93      0.94      0.93       114\n",
            "weighted avg       0.94      0.94      0.94       114\n",
            "\n",
            "Temps de calcul: 0.45 secondes\n"
          ]
        }
      ]
    },
    {
      "cell_type": "code",
      "source": [
        "# 📌 Import nécessaire\n",
        "from xgboost import XGBClassifier\n",
        "\n",
        "# 🔍 Entraînement du modèle XGBoost\n",
        "start_time = time.time()\n",
        "xgb_model = XGBClassifier(use_label_encoder=False, eval_metric='logloss', random_state=42)\n",
        "xgb_model.fit(X_train_scaled, y_train)\n",
        "xgb_pred = xgb_model.predict(X_test_scaled)\n",
        "xgb_time = time.time() - start_time\n",
        "\n",
        "# 🧪 Évaluation\n",
        "xgb_metrics = evaluate_model(y_test, xgb_pred, \"XGBoost\")\n",
        "print(f\"Temps de calcul: {xgb_time:.2f} secondes\")"
      ],
      "metadata": {
        "colab": {
          "base_uri": "https://localhost:8080/"
        },
        "id": "j7SRWoHFfZ2j",
        "outputId": "e9a146cd-4d44-4f15-be48-30f47af4b882"
      },
      "execution_count": 13,
      "outputs": [
        {
          "output_type": "stream",
          "name": "stdout",
          "text": [
            "\n",
            "🔎 Résultats pour XGBoost\n",
            "Matrice de confusion :\n",
            "[[38  4]\n",
            " [ 2 70]]\n",
            "\n",
            "Rapport de classification :\n",
            "              precision    recall  f1-score   support\n",
            "\n",
            "           0       0.95      0.90      0.93        42\n",
            "           1       0.95      0.97      0.96        72\n",
            "\n",
            "    accuracy                           0.95       114\n",
            "   macro avg       0.95      0.94      0.94       114\n",
            "weighted avg       0.95      0.95      0.95       114\n",
            "\n",
            "Temps de calcul: 0.22 secondes\n"
          ]
        },
        {
          "output_type": "stream",
          "name": "stderr",
          "text": [
            "/usr/local/lib/python3.11/dist-packages/xgboost/core.py:158: UserWarning: [03:14:48] WARNING: /workspace/src/learner.cc:740: \n",
            "Parameters: { \"use_label_encoder\" } are not used.\n",
            "\n",
            "  warnings.warn(smsg, UserWarning)\n"
          ]
        }
      ]
    },
    {
      "cell_type": "code",
      "source": [
        "# Assurez-vous que matplotlib est importé\n",
        "import matplotlib.pyplot as plt\n",
        "\n",
        "# 📊 Cellule 8: Comparaison des performances\n",
        "results = pd.DataFrame({\n",
        "    'Modèle': ['XGBoost', 'SVM', 'SMOTE + PCA + RF', 'Borderline-SMOTE + RF'],\n",
        "    'Precision': [\n",
        "        safe_get(xgb_metrics, 'precision'),\n",
        "        safe_get(svm_metrics, 'precision'),\n",
        "        safe_get(rf_smote_metrics, 'precision'),\n",
        "        safe_get(rf_borderline_metrics, 'precision')\n",
        "    ],\n",
        "    'Recall': [\n",
        "        safe_get(xgb_metrics, 'recall'),\n",
        "        safe_get(svm_metrics, 'recall'),\n",
        "        safe_get(rf_smote_metrics, 'recall'),\n",
        "        safe_get(rf_borderline_metrics, 'recall')\n",
        "    ],\n",
        "    'F1-Score': [\n",
        "        safe_get(xgb_metrics, 'f1'),\n",
        "        safe_get(svm_metrics, 'f1'),\n",
        "        safe_get(rf_smote_metrics, 'f1'),\n",
        "        safe_get(rf_borderline_metrics, 'f1')\n",
        "    ],\n",
        "    'Temps (s)': [\n",
        "        xgb_time if 'xgb_time' in locals() else 0,\n",
        "        svm_time if 'svm_time' in locals() else 0,\n",
        "        rf_smote_time if 'rf_smote_time' in locals() else 0,\n",
        "        rf_borderline_time if 'rf_borderline_time' in locals() else 0\n",
        "    ]\n",
        "})\n",
        "\n",
        "print(\"\\n✅ Comparaison des performances sur la classe minoritaire :\")\n",
        "print(results)\n",
        "\n",
        "# Affichage graphique\n",
        "plt.figure(figsize=(10, 6))\n",
        "results.set_index('Modèle')[['Precision', 'Recall', 'F1-Score']].plot(kind='bar')\n",
        "plt.title('Comparaison des métriques pour la classe minoritaire')\n",
        "plt.ylabel('Score')\n",
        "plt.xticks(rotation=45)\n",
        "plt.tight_layout()\n",
        "plt.show()"
      ],
      "metadata": {
        "colab": {
          "base_uri": "https://localhost:8080/",
          "height": 626
        },
        "id": "B-zohvUzfCWC",
        "outputId": "978f7476-2436-4c89-d3bd-dd6f024cf7f7"
      },
      "execution_count": 18,
      "outputs": [
        {
          "output_type": "stream",
          "name": "stdout",
          "text": [
            "\n",
            "✅ Comparaison des performances sur la classe minoritaire :\n",
            "                  Modèle  Precision  Recall  F1-Score  Temps (s)\n",
            "0                XGBoost          0       0         0   0.224361\n",
            "1                    SVM          0       0         0   0.032334\n",
            "2       SMOTE + PCA + RF          0       0         0   1.109258\n",
            "3  Borderline-SMOTE + RF          0       0         0   0.446267\n"
          ]
        },
        {
          "output_type": "display_data",
          "data": {
            "text/plain": [
              "<Figure size 1000x600 with 0 Axes>"
            ]
          },
          "metadata": {}
        },
        {
          "output_type": "display_data",
          "data": {
            "text/plain": [
              "<Figure size 640x480 with 1 Axes>"
            ],
            "image/png": "[encoded data removed]"
          },
          "metadata": {}
        }
      ]
    },
    {
      "cell_type": "code",
      "source": [
        "import pandas as pd\n",
        "\n",
        "# Vérifie si 'data' est un DataFrame\n",
        "if isinstance(data, pd.DataFrame):\n",
        "    print(\"\\nAnalyse des Odds Ratios:\")\n",
        "\n",
        "    if 'PHQ9_score' in data.columns:\n",
        "        data['High_PHQ9'] = (data['PHQ9_score'] > data['PHQ9_score'].median()).astype(int)\n",
        "\n",
        "        def calculate_odds_ratio(data, feature, target):\n",
        "            contingency_table = pd.crosstab(data[feature], data[target])\n",
        "            odds_ratio = (contingency_table.iloc[1, 1] * contingency_table.iloc[0, 0]) / \\\n",
        "                         (contingency_table.iloc[1, 0] * contingency_table.iloc[0, 1])\n",
        "            return odds_ratio\n",
        "\n",
        "        or_phq9 = calculate_odds_ratio(data, 'High_PHQ9', 'target')\n",
        "        print(f\"Odds Ratio pour High_PHQ9: {or_phq9:.2f}\")\n",
        "        if or_phq9 > 1:\n",
        "            print(\"✔ Scores PHQ-9 élevés associés à un risque plus élevé de dépression.\")\n",
        "        else:\n",
        "            print(\"✖ Scores PHQ-9 élevés non associés fortement à la dépression.\")\n",
        "    else:\n",
        "        print(\"⚠ La colonne 'PHQ9_score' n'est pas disponible dans les données.\")\n",
        "else:\n",
        "    print(\"⚠ L'objet 'data' n'est pas un DataFrame pandas. Veuillez vérifier le type des données.\")"
      ],
      "metadata": {
        "colab": {
          "base_uri": "https://localhost:8080/"
        },
        "id": "MFzYPH3qfHcJ",
        "outputId": "e18fdfad-2632-4589-dfdc-80fd3d6c7a76"
      },
      "execution_count": 20,
      "outputs": [
        {
          "output_type": "stream",
          "name": "stdout",
          "text": [
            "⚠ L'objet 'data' n'est pas un DataFrame pandas. Veuillez vérifier le type des données.\n"
          ]
        }
      ]
    },
    {
      "cell_type": "code",
      "source": [
        "# Cellule 10: Conclusion\n",
        "print(\"\\nConclusion:\")\n",
        "print(\"✔ XGBoost avec scale_pos_weight est performant sur données déséquilibrées.\")\n",
        "print(\"✔ SVM est efficace mais peut être lent.\")\n",
        "print(\"✔ SMOTE améliore la performance avec un léger coût en temps.\")\n",
        "print(\"✔ Odds Ratio utile pour identifier les indicateurs les plus forts.\")\n"
      ],
      "metadata": {
        "colab": {
          "base_uri": "https://localhost:8080/"
        },
        "id": "0VfEOCeafJLv",
        "outputId": "8e440f8b-2a31-45e3-b74a-75c6247453e3"
      },
      "execution_count": 21,
      "outputs": [
        {
          "output_type": "stream",
          "name": "stdout",
          "text": [
            "\n",
            "Conclusion:\n",
            "✔ XGBoost avec scale_pos_weight est performant sur données déséquilibrées.\n",
            "✔ SVM est efficace mais peut être lent.\n",
            "✔ SMOTE améliore la performance avec un léger coût en temps.\n",
            "✔ Odds Ratio utile pour identifier les indicateurs les plus forts.\n"
          ]
        }
      ]
    }
  ]
}