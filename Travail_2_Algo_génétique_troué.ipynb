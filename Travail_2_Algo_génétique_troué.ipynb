{
  "nbformat": 4,
  "nbformat_minor": 0,
  "metadata": {
    "colab": {
      "provenance": [],
      "include_colab_link": true
    },
    "kernelspec": {
      "name": "python3",
      "display_name": "Python 3"
    },
    "language_info": {
      "name": "python"
    }
  },
  "cells": [
    {
      "cell_type": "markdown",
      "metadata": {
        "id": "view-in-github",
        "colab_type": "text"
      },
      "source": [
        "<a href=\"https://colab.research.google.com/github/Obad00/Billets/blob/main/Travail_2_Algo_g%C3%A9n%C3%A9tique_trou%C3%A9.ipynb\" target=\"_parent\"><img src=\"https://colab.research.google.com/assets/colab-badge.svg\" alt=\"Open In Colab\"/></a>"
      ]
    },
    {
      "cell_type": "code",
      "source": [
        "import numpy as np\n",
        "import matplotlib.pyplot as plt\n",
        "from sklearn import datasets\n",
        "\n",
        "# Charger le dataset Digits depuis scikit-learn\n",
        "digits = datasets.load_digits()\n",
        "X, y = digits.data, digits.target\n",
        "\n",
        "# Afficher quelques images du dataset\n",
        "num_images_to_display = 5\n",
        "\n",
        "plt.figure(figsize=(9, 3))\n",
        "for i in range(num_images_to_display):\n",
        "    plt.subplot(1, num_images_to_display, i + 1)\n",
        "    random_index = np.random.randint(0, len(X))\n",
        "    plt.imshow(X[random_index].reshape(8, 8), cmap='gray')  # Les images Digits sont de taille 8x8\n",
        "    plt.title(f\"Label: {y[random_index]}\")\n",
        "    plt.axis('off')\n",
        "\n",
        "plt.show()\n"
      ],
      "metadata": {
        "colab": {
          "base_uri": "https://localhost:8080/",
          "height": 179
        },
        "id": "T7mM9nTg-MHB",
        "outputId": "326c14ea-5c80-4a9c-df68-884742f29aea"
      },
      "execution_count": null,
      "outputs": [
        {
          "output_type": "display_data",
          "data": {
            "text/plain": [
              "<Figure size 900x300 with 5 Axes>"
            ],
            "image/png": "[encoded data removed]"
          },
          "metadata": {}
        }
      ]
    },
    {
      "cell_type": "markdown",
      "source": [
        "# Programme troué à compléter:\n",
        "\n",
        "Rappel, vous devez exécuter les blocs modifiés de code qui ont une incidence sur la partie exécutée."
      ],
      "metadata": {
        "id": "MFxu86hxAEQc"
      }
    },
    {
      "cell_type": "code",
      "source": [
        "# Le code est complet et fonctionnel ici.   (0 point)\n",
        "# Importer les bibliothèques nécessaires\n",
        "from sklearn.neural_network import MLPClassifier\n",
        "from sklearn.model_selection import train_test_split\n",
        "from sklearn import datasets\n",
        "from sklearn.metrics import accuracy_score\n",
        "import random\n",
        "import matplotlib.pyplot as plt\n",
        "from statistics import mean"
      ],
      "metadata": {
        "id": "kzHsb2NKAS5u"
      },
      "execution_count": null,
      "outputs": []
    },
    {
      "cell_type": "code",
      "source": [
        "# Le code est complet et fonctionnel ici.   (0 point)\n",
        "# Vous n'avez rien à changer, sinon changer les valeurs des variables pour faire des tests.\n",
        "# Vous pouvez changer les valeurs des variables suivantes pour tester.\n",
        "#    nb_generation_max = 3\n",
        "#    taux_mutation = 0.05\n",
        "#    taille_population = 10\n",
        "#    nombre_meilleurs_conserves = 5\n",
        "\n",
        "class algo_genetique:\n",
        "    \"\"\"\n",
        "    Classe implémentant un algorithme génétique pour l'optimisation d'un modèle MLP.\n",
        "\n",
        "    Attributes:\n",
        "    - digits (obj): Les données MNIST.\n",
        "    - X_train (array): Les données d'entraînement.\n",
        "    - X_test (array): Les données de test.\n",
        "    - y_train (array): Les étiquettes d'entraînement.\n",
        "    - y_test (array): Les étiquettes de test.\n",
        "    - gene_hidden_layer_sizes (list): Le domaine des valeurs possibles pour la taille de la couche cachée.\n",
        "    - gene_max_iter (list): Le domaine des valeurs possibles pour le nombre maximal d'itérations.\n",
        "    - gene_solver (list): Le domaine des valeurs possibles pour le solveur du modèle MLP.\n",
        "    - gene_learning_rate (list): Le domaine des valeurs possibles pour le taux d'apprentissage du modèle MLP.\n",
        "    - population_chromosomes (list): La population de chromosomes représentant les configurations du modèle MLP.\n",
        "    - nb_generation_max (int): Le nombre maximal de générations à effectuer.\n",
        "    - taux_mutation (float): Le taux de mutation dans l'algorithme génétique.\n",
        "    - taille_population (int): La taille de la population de chromosomes.\n",
        "    - nombre_meilleurs_conserves (int): Le nombre de meilleurs chromosomes conservés à chaque génération.\n",
        "\n",
        "    Methods:\n",
        "    - __init__(): Le constructeur de la classe, initialise les données et divise l'ensemble de données MNIST.\n",
        "    - random_initial_population(): Initialise la population initiale de chromosomes de manière aléatoire.\n",
        "    - mutate(individual): Mutate un individu en choisissant de nouvelles valeurs parmi les gènes permis.\n",
        "    - breeding(parent1, parent2): Reproduit deux individus (crossover) avec mutation éventuelle.\n",
        "    - selection(): Sélectionne les meilleurs individus de la population et applique la reproduction aux individus restants.\n",
        "    - fitness(chromosome): Évalue la performance d'un chromosome en utilisant un modèle MLP.\n",
        "    - evolution(): Simule le processus d'évolution de la population de chromosomes.\n",
        "    - affiche_graphique(graphique_performance_moyenne): Affiche un graphique de la performance moyenne au fil des générations.\n",
        "    \"\"\"\n",
        "\n",
        "    # Propriétés\n",
        "    digits = None\n",
        "    X_train = None\n",
        "    X_test = None\n",
        "    y_train = None\n",
        "    y_test = None\n",
        "\n",
        "    # Définition du domaine des gênes. (valeurs possibles pour chacun)\n",
        "    gene_hidden_layer_sizes = [(2,), (5,), (50,), (100,), (50, 50,), (10, 10, 10,)]\n",
        "    gene_max_iter = [100, 500, 1000, 5000]\n",
        "    gene_solver = [\"adam\", \"lbfgs\", \"sgd\"]\n",
        "    gene_learning_rate = [0.01, 0.005, 0.001]\n",
        "\n",
        "    # Le vecteur des chromosomes\n",
        "    population_chromosomes = []\n",
        "\n",
        "    # Paramètres importants de l'algorithme génétiques\n",
        "    # Nombre de génération maximal à effectuer\n",
        "    nb_generation_max = 3\n",
        "    # Le taux de mutation\n",
        "    taux_mutation = 0.05\n",
        "    # La taille de la population de chromosomes\n",
        "    taille_population = 10\n",
        "    # Le nombre de chromosomes conservés (les meilleurs) par génération\n",
        "    nombre_meilleurs_conserves = 5\n"
      ],
      "metadata": {
        "id": "1rHnZcOOATRn"
      },
      "execution_count": null,
      "outputs": []
    },
    {
      "cell_type": "code",
      "source": [
        "    # Complétez la méthode (2 point)\n",
        "    def __init__(self):\n",
        "      \"\"\"\n",
        "      Initialise l'algorithme génétique en chargeant la base de données MNIST et en divisant les données en ensembles d'entraînement et de test.\n",
        "      \"\"\"\n",
        "      print(\"Initialisation de l'algorithme génétique et chargement des données...\")\n",
        "      # Charger la base de données\n",
        "      self.digits = datasets.load_digits()\n",
        "      # Extraire les données (X) et les étiquettes (y)\n",
        "      X, y = self.digits.data, self.digits.target\n",
        "      # Diviser les données en ensembles d'entraînement et de test\n",
        "      # Données d'entrainement: 75%\n",
        "      # Données test: 25%\n",
        "      self.X_train, self.X_test, self.y_train, self.y_test = train_test_split(\n",
        "            X, y, test_size=0.25, random_state=42\n",
        "        )\n",
        "\n"
      ],
      "metadata": {
        "id": "rKoH7536ATXE"
      },
      "execution_count": 1,
      "outputs": []
    },
    {
      "cell_type": "code",
      "source": [
        "    # Complétez la méthode (2 point)\n",
        "    def random_initial_population(self):\n",
        "      \"\"\"\n",
        "      Initialise la population initiale de chromosomes de manière aléatoire.\n",
        "      \"\"\"\n",
        "      print(\"Initialisation de la population de chromosomes...\")\n",
        "      self.population_chromosomes = []  # Liste pour stocker les chromosomes de la population\n",
        "\n",
        "      # On boucle sur la totalité des chromosomes du vecteur de la population.\n",
        "      for i in range(self.taille_population):\n",
        "        # Choix aléatoire de chacun des gênes qui constituent de chromosome.\n",
        "        # La structure du chromosome est la suivante:\n",
        "        # Un dictionnaire un_chromosome avec les données suivantes:\n",
        "        # fitness:  Le resultat de la fonction fitness pour cette configuration de chromosome.\n",
        "        # gene_hidden_layer_size:  Le gêne qui contient la configuration du RDN.\n",
        "        # gene_max_iter: Le nombre d'itération maximum du MLP.\n",
        "        # gene_solver: Le type d'apprentissage du MLP\n",
        "        # gene_learning_rate: Le taux d'apprentissage du MLP.\n",
        "\n",
        "        un_chromosome = {\n",
        "          \"hidden_layer_sizes\": random.choice(self.gene_hidden_layer_sizes),  # Choix du gène de configuration RDN\n",
        "          \"max_iter\": random.choice(self.gene_max_iter),  # Choix du gène pour le nombre d'itérations\n",
        "          \"solver\": random.choice(self.gene_solver),  # Choix du gène pour le type d'apprentissage\n",
        "          \"learning_rate\": random.choice(self.gene_learning_rate),  # Choix du gène pour le taux d'apprentissage\n",
        "        }\n",
        "\n",
        "        un_chromosome[\"fitness\"] = self.fitness(un_chromosome)  # Calcul du fitness pour ce chromosome\n",
        "\n",
        "        # Ajout du chromosome à la population de chromosomes (self.population_chromosomes)\n",
        "        self.population_chromosomes.append(un_chromosome)\n"
      ],
      "metadata": {
        "id": "dgAJZ0aiATdd"
      },
      "execution_count": 4,
      "outputs": []
    },
    {
      "cell_type": "code",
      "source": [
        "  # Complétez la méthode (2 point)\n",
        "  def mutate(self, individual):\n",
        "      \"\"\"\n",
        "      Mutation d'un individu en choisissant une nouvelle valeur parmi les gènes permis.\n",
        "\n",
        "      Parameters:\n",
        "      - individual (dict): Individu à muter.\n",
        "\n",
        "      Returns:\n",
        "      - mutated_individual (dict): Individu muté.\n",
        "      \"\"\"\n",
        "\n",
        "      # On fait une copie du vecteur individual dans mutated_individual\n",
        "      mutated_individual = individual.copy()\n",
        "\n",
        "      # Mutation de l'un des gênes.\n",
        "      # Choix aléatoire du gêne à muter avec random.choice, et retour dans la variable key\n",
        "      key = random.choice([\"hidden_layer_sizes\", \"max_iter\", \"solver\", \"learning_rate\"])\n",
        "\n",
        "      # Teste quel est la clé (key), et assigne une nouvelle valeur avec random.choice, dans le domaine du gêne.\n",
        "      if key == \"hidden_layer_sizes\":\n",
        "          mutated_individual[key] = random.choice(self.gene_hidden_layer_sizes)\n",
        "      elif key == \"max_iter\":\n",
        "          mutated_individual[key] = random.choice(self.gene_max_iter)\n",
        "      elif key == \"solver\":\n",
        "          mutated_individual[key] = random.choice(self.gene_solver)\n",
        "      elif key == \"learning_rate\":\n",
        "          mutated_individual[key] = random.choice(self.gene_learning_rate)\n",
        "\n",
        "      # Retourne mutated_individual\n",
        "      return mutated_individual\n"
      ],
      "metadata": {
        "id": "gFY7ITpHATgm"
      },
      "execution_count": 10,
      "outputs": []
    },
    {
      "cell_type": "code",
      "source": [
        "  # Complétez la méthode (2 point)\n",
        "  def breeding(self, parent1, parent2):\n",
        "      \"\"\"\n",
        "      Reproduction des individus (crossover) avec mutation éventuelle.\n",
        "\n",
        "      Parameters:\n",
        "      - parent1 (dict): Premier parent.\n",
        "      - parent2 (dict): Deuxième parent.\n",
        "\n",
        "      Returns:\n",
        "      - child (dict): Nouvel individu résultant de la reproduction.\n",
        "      \"\"\"\n",
        "\n",
        "      # Déclaration de l'enfant à créer (un dictionnaire vide)\n",
        "      child = {}\n",
        "\n",
        "      # Tire un nombre aléatoire entre 1 et la taille du parent chromosome.\n",
        "      # Ce nombre va représenter la position de la coupure (point de crossover)\n",
        "      crossover_point = random.randint(1, len(parent1) - 1)\n",
        "\n",
        "      # Copie les genes de parent1 jusqu'au point de crossover\n",
        "      for i in range(crossover_point):\n",
        "          key = list(parent1.keys())[i]\n",
        "          child[key] = parent1[key]\n",
        "\n",
        "      # Copie les genes de parent2 à partir du point de crossover\n",
        "      for i in range(crossover_point, len(parent2)):\n",
        "          key = list(parent2.keys())[i]\n",
        "          child[key] = parent2[key]\n",
        "\n",
        "      # Possibilité de mutation aléatoire sur le nouvel individu.\n",
        "      # Si le hasard est inférieur au taux de mutation, on applique une mutation\n",
        "      if random.random() < self.taux_mutation:\n",
        "          child = self.mutate(child)\n",
        "\n",
        "      # Retourne l'enfant créé\n",
        "      return child\n"
      ],
      "metadata": {
        "id": "PrHmO76tATjx"
      },
      "execution_count": 9,
      "outputs": []
    },
    {
      "cell_type": "code",
      "source": [
        "# Complétez la méthode (2 point)\n",
        "def selection(self):\n",
        "    \"\"\"\n",
        "    Sélectionne les meilleurs individus de la population et applique la reproduction aux individus restants.\n",
        "\n",
        "    Returns:\n",
        "    - meilleurs (list): Liste des meilleurs individus conservés.\n",
        "    \"\"\"\n",
        "\n",
        "    # Trier la population en fonction de la fonction fitness, du meilleur au moins bon\n",
        "    population_triee = sorted(self.population_chromosomes, key=lambda x: x['fitness'], reverse=True)\n",
        "\n",
        "    # Sélectionner les meilleurs individus en fonction de self.nombre_meilleurs_conserves\n",
        "    # On garde les premiers éléments de la population triée\n",
        "    meilleurs = population_triee[:self.nombre_meilleurs_conserves]\n",
        "\n",
        "    # Appliquer la fonction breeding aux individus restants pour générer de nouveaux enfants\n",
        "    for i in range(self.nombre_meilleurs_conserves, len(self.population_chromosomes)):\n",
        "        # Choix des deux parents parmi les meilleurs\n",
        "        parent1 = meilleurs[i % self.nombre_meilleurs_conserves]\n",
        "        parent2 = meilleurs[(i + 1) % self.nombre_meilleurs_conserves]\n",
        "\n",
        "        # Création d'un enfant en croisant les deux parents\n",
        "        enfant = self.breeding(parent1, parent2)\n",
        "\n",
        "        # Ajout de la valeur de fitness à l'enfant\n",
        "        enfant[\"fitness\"] = self.fitness(enfant)\n",
        "\n",
        "        # Remplacement dans la population existante\n",
        "        self.population_chromosomes[i] = enfant\n",
        "\n",
        "    # Retourner la liste des meilleurs individus conservés\n",
        "    return meilleurs\n"
      ],
      "metadata": {
        "id": "d5j50SreATmv"
      },
      "execution_count": 7,
      "outputs": []
    },
    {
      "cell_type": "code",
      "source": [
        "    # Complétez la méthode (5 point)\n",
        "    def fitness(self, chromosome):\n",
        "      \"\"\"\n",
        "      Évalue la performance d'un chromosome en utilisant un modèle MLP.\n",
        "\n",
        "      Parameters:\n",
        "      - chromosome (dict): Configuration du modèle représentée par le chromosome.\n",
        "\n",
        "      Returns:\n",
        "      - performance (float): Précision du modèle MLP basé sur la configuration donnée.\n",
        "      \"\"\"\n",
        "\n",
        "       # Initialiser le modèle MLP avec les paramètres du chromosome\n",
        "      model = MLPClassifier(\n",
        "          hidden_layer_sizes=chromosome['hidden_layer_sizes'],\n",
        "          max_iter=chromosome['max_iter'],\n",
        "          solver=chromosome['solver'],\n",
        "          learning_rate=chromosome['learning_rate'],\n",
        "          random_state=42\n",
        "      )\n",
        "\n",
        "      # Entraîner le modèle sur l'ensemble d'entraînement\n",
        "      model.fit(self.X_train, self.y_train)\n",
        "\n",
        "      # Faire des prédictions sur l'ensemble de test\n",
        "      y_pred = model.predict(self.X_test)\n",
        "\n",
        "      # Calculer la précision du modèle\n",
        "      performance = accuracy_score(self.y_test, y_pred)\n",
        "\n",
        "      # Retourner la valeur de performance (précision du modèle)\n",
        "      return performance\n",
        "\n"
      ],
      "metadata": {
        "id": "jSyyV9n6ATpt"
      },
      "execution_count": 18,
      "outputs": []
    },
    {
      "cell_type": "code",
      "source": [
        "    # Le code est complet et fonctionnel ici.   (0 point)\n",
        "    def evolution(self):\n",
        "      \"\"\"\n",
        "      Simule le processus d'évolution de la population de chromosomes.\n",
        "\n",
        "      Returns:\n",
        "      - Aucun\n",
        "      \"\"\"\n",
        "\n",
        "      # Affichage d'une trace de début de traitement d'évolution\n",
        "      print(\"Début du processus d'évolution.\")\n",
        "      # Appel de la fonction d'initialisation\n",
        "      self.random_initial_population()\n",
        "      # Déclation de 2 tableaux vides utiles pour la suite (calcul et graphiques)\n",
        "      performance_generation = []\n",
        "      graphique_performance_moyenne = []\n",
        "      # Boucle sur les générations\n",
        "      for generation in range(self.nb_generation_max):\n",
        "        # Affiche la génération\n",
        "        print(\"generation: \" + str(generation))\n",
        "        # Boucle sur les chromosomes.\n",
        "        for i in range(len(self.population_chromosomes)):\n",
        "          # Calcul la fitness pour chaque chromosomes de la population.\n",
        "          self.population_chromosomes[i]['fitness'] = self.fitness(self.population_chromosomes[i])\n",
        "          # On ajoute la fitness au tableau de performance de la génération\n",
        "          performance_generation.append(self.population_chromosomes[i]['fitness'])\n",
        "        # On calcul la moyenne de la performance de la population, et on l'ajoute au tableau de graphique\n",
        "        graphique_performance_moyenne.append(mean(performance_generation))\n",
        "        # On réeffectue la selection pour la prochaine génération.  On assigne le résultat de la fonction à la variable meiileurs\n",
        "        meilleurs = self.selection()\n",
        "\n",
        "      # On appelle l'affichage du grpahique\n",
        "      self.affiche_graphique(graphique_performance_moyenne)\n",
        "      # On affiche les meilleurs de la dernière génération.\n",
        "      print(\"Meilleures configurations trouvées:\")\n",
        "      print(meilleurs)\n",
        "      print(\"Fin des générations\")"
      ],
      "metadata": {
        "id": "5ikANqAHATs5"
      },
      "execution_count": null,
      "outputs": []
    },
    {
      "cell_type": "code",
      "source": [
        "    # Le code est complet et fonctionnel ici.   (0 point)\n",
        "    def affiche_graphique(self, graphique_performance_moyenne):\n",
        "      \"\"\"\n",
        "      Affiche un graphique de la performance moyenne au fil des générations.\n",
        "\n",
        "      Parameters:\n",
        "      - graphique_performance_moyenne (list): Liste des performances moyennes par génération.\n",
        "\n",
        "      Returns:\n",
        "      - None\n",
        "      \"\"\"\n",
        "\n",
        "      # Affichage des courbes\n",
        "      plt.plot(graphique_performance_moyenne)\n",
        "      # Étiquettes\n",
        "      plt.ylabel('Axe Y - Score')\n",
        "      plt.xlabel('Axe X - Génération')\n",
        "      # Affiche le graphique\n",
        "      plt.show()"
      ],
      "metadata": {
        "id": "INCZqW47ATwI"
      },
      "execution_count": null,
      "outputs": []
    },
    {
      "cell_type": "code",
      "source": [
        "# Le code est complet et fonctionnel ici.   (0 point)\n",
        "# Ce code-ci va lancer votre algorithme génétique\n",
        "ai = algo_genetique()\n",
        "ai.evolution()"
      ],
      "metadata": {
        "id": "uuSmNaesATyu"
      },
      "execution_count": null,
      "outputs": []
    }
  ]
}