{
  "cells": [
    {
      "cell_type": "markdown",
      "metadata": {
        "id": "view-in-github",
        "colab_type": "text"
      },
      "source": [
        "<a href=\"https://colab.research.google.com/github/Obad00/Billets/blob/main/a1%20Travail_1_Neural_game_of_life_trou%C3%A9.ipynb\" target=\"_parent\"><img src=\"https://colab.research.google.com/assets/colab-badge.svg\" alt=\"Open In Colab\"/></a>"
      ]
    },
    {
      "cell_type": "markdown",
      "source": [
        "# Neural Game Of Life\n",
        "\n",
        "Comblez le code manquant pour compléter le Jeu de la vie.\n",
        "\n",
        "La version finale doit être exécutable en 2 modes: standard et neuronale.\n",
        "\n",
        "Ainsi, vous devez prévoir 2 fonctions \"voisins\", qui compte le nombre de voisins d'une cellule.\n",
        "\n",
        "Dans le jeu de la vie, simplement changer la valeur de la variable \"mode\" pour passer d'un mode à l'autre.\n",
        "\n",
        "MODE_STANDARD = 0\n",
        "\n",
        "MODE_NEURAL = 1\n",
        "\n",
        "**mode = MODE_STANDARD   # Ou MODE_NEURAL**\n",
        "\n",
        "*Peut importe les points finaux, vous ne pouvez pas avoir une note supérieure à 9/15 si AUCUN de vos modes ne fonctionne bien.*\n",
        "\n",
        "\n"
      ],
      "metadata": {
        "id": "4nEczf090gMz"
      }
    },
    {
      "cell_type": "markdown",
      "source": [
        "## RND - MLP\n",
        "\n",
        "(7 points)"
      ],
      "metadata": {
        "id": "BwR8M02c3a--"
      }
    },
    {
      "cell_type": "code",
      "source": [
        "# Importation des bibliothèques\n",
        "import numpy as np\n",
        "import random\n",
        "from sklearn.model_selection import train_test_split\n",
        "from sklearn.neural_network import MLPRegressor\n",
        "from sklearn.metrics import mean_squared_error, r2_score"
      ],
      "metadata": {
        "id": "1mKBGOmf3mHY"
      },
      "execution_count": 27,
      "outputs": []
    },
    {
      "cell_type": "code",
      "source": [
        "# 1 POINT\n",
        "# Initialisation du générateur de nombres aléatoires\n",
        "# Doit assurer la reproductibilité\n",
        "np.random.seed(42)\n",
        "random.seed(42)"
      ],
      "metadata": {
        "id": "hpeyYUVX3mQp"
      },
      "execution_count": 28,
      "outputs": []
    },
    {
      "cell_type": "code",
      "source": [
        "# 1 POINT\n",
        "# Générer 100 données avec 8 caractéristiques binaires et la caractéristique cible (somme des caractéristiques binaires)\n",
        "def generer_donnees(nb_echantillons=100, nb_caracteristiques=8):\n",
        "    X = np.random.randint(0, 2, size=(nb_echantillons, nb_caracteristiques))\n",
        "    y = np.sum(X, axis=1)  # La cible est la somme des voisins vivants\n",
        "    return X, y\n",
        "\n",
        "X, y = generer_donnees()"
      ],
      "metadata": {
        "id": "JtEjHTIr3maJ"
      },
      "execution_count": 29,
      "outputs": []
    },
    {
      "cell_type": "code",
      "source": [
        "# 1 POINT\n",
        "# Diviser les données en ensembles d'entraînement et de test (X_train, X_test, Y_train, Y_test)\n",
        "# 80% pour l'entraînement et 20% pour les tests.\n",
        "# Assurer la reproductibilité\n",
        "X_train, X_test, y_train, y_test = train_test_split(X, y, test_size=0.2, random_state=42)"
      ],
      "metadata": {
        "id": "AFBHP5OR3mir"
      },
      "execution_count": 30,
      "outputs": []
    },
    {
      "cell_type": "code",
      "source": [
        "# 1 POINT\n",
        "# Créer le modèle MLPRegressor nommé mlp, 1 couche cachée avec 8 neurones. Reproductible, Maximum 1000 itérations d'apprentissage.\n",
        "# 1 POINT\n",
        "# Entraîner le modèle sur les données d'entraînement\n",
        "def creer_et_entrainer_mlp(X_train, y_train):\n",
        "    modele = MLPRegressor(hidden_layer_sizes=(8,), max_iter=1000, random_state=42)\n",
        "    modele.fit(X_train, y_train)\n",
        "    return modele\n",
        "\n",
        "mlp = creer_et_entrainer_mlp(X_train, y_train)"
      ],
      "metadata": {
        "id": "mXDDogU-3mnR"
      },
      "execution_count": 31,
      "outputs": []
    },
    {
      "cell_type": "code",
      "source": [
        "# 1 POINT\n",
        "# Entraîner le modèle sur les données d'entraînement\n",
        "mlp.fit(X_train, y_train)"
      ],
      "metadata": {
        "id": "HffVaeH03msh",
        "colab": {
          "base_uri": "https://localhost:8080/",
          "height": 80
        },
        "outputId": "d63e28ca-5745-4bd5-f389-66d590548989"
      },
      "execution_count": 32,
      "outputs": [
        {
          "output_type": "execute_result",
          "data": {
            "text/plain": [
              "MLPRegressor(hidden_layer_sizes=(8,), max_iter=1000, random_state=42)"
            ],
            "text/html": [
              "<style>#sk-container-id-2 {\n",
              "  /* Definition of color scheme common for light and dark mode */\n",
              "  --sklearn-color-text: #000;\n",
              "  --sklearn-color-text-muted: #666;\n",
              "  --sklearn-color-line: gray;\n",
              "  /* Definition of color scheme for unfitted estimators */\n",
              "  --sklearn-color-unfitted-level-0: #fff5e6;\n",
              "  --sklearn-color-unfitted-level-1: #f6e4d2;\n",
              "  --sklearn-color-unfitted-level-2: #ffe0b3;\n",
              "  --sklearn-color-unfitted-level-3: chocolate;\n",
              "  /* Definition of color scheme for fitted estimators */\n",
              "  --sklearn-color-fitted-level-0: #f0f8ff;\n",
              "  --sklearn-color-fitted-level-1: #d4ebff;\n",
              "  --sklearn-color-fitted-level-2: #b3dbfd;\n",
              "  --sklearn-color-fitted-level-3: cornflowerblue;\n",
              "\n",
              "  /* Specific color for light theme */\n",
              "  --sklearn-color-text-on-default-background: var(--sg-text-color, var(--theme-code-foreground, var(--jp-content-font-color1, black)));\n",
              "  --sklearn-color-background: var(--sg-background-color, var(--theme-background, var(--jp-layout-color0, white)));\n",
              "  --sklearn-color-border-box: var(--sg-text-color, var(--theme-code-foreground, var(--jp-content-font-color1, black)));\n",
              "  --sklearn-color-icon: #696969;\n",
              "\n",
              "  @media (prefers-color-scheme: dark) {\n",
              "    /* Redefinition of color scheme for dark theme */\n",
              "    --sklearn-color-text-on-default-background: var(--sg-text-color, var(--theme-code-foreground, var(--jp-content-font-color1, white)));\n",
              "    --sklearn-color-background: var(--sg-background-color, var(--theme-background, var(--jp-layout-color0, #111)));\n",
              "    --sklearn-color-border-box: var(--sg-text-color, var(--theme-code-foreground, var(--jp-content-font-color1, white)));\n",
              "    --sklearn-color-icon: #878787;\n",
              "  }\n",
              "}\n",
              "\n",
              "#sk-container-id-2 {\n",
              "  color: var(--sklearn-color-text);\n",
              "}\n",
              "\n",
              "#sk-container-id-2 pre {\n",
              "  padding: 0;\n",
              "}\n",
              "\n",
              "#sk-container-id-2 input.sk-hidden--visually {\n",
              "  border: 0;\n",
              "  clip: rect(1px 1px 1px 1px);\n",
              "  clip: rect(1px, 1px, 1px, 1px);\n",
              "  height: 1px;\n",
              "  margin: -1px;\n",
              "  overflow: hidden;\n",
              "  padding: 0;\n",
              "  position: absolute;\n",
              "  width: 1px;\n",
              "}\n",
              "\n",
              "#sk-container-id-2 div.sk-dashed-wrapped {\n",
              "  border: 1px dashed var(--sklearn-color-line);\n",
              "  margin: 0 0.4em 0.5em 0.4em;\n",
              "  box-sizing: border-box;\n",
              "  padding-bottom: 0.4em;\n",
              "  background-color: var(--sklearn-color-background);\n",
              "}\n",
              "\n",
              "#sk-container-id-2 div.sk-container {\n",
              "  /* jupyter's `normalize.less` sets `[hidden] { display: none; }`\n",
              "     but bootstrap.min.css set `[hidden] { display: none !important; }`\n",
              "     so we also need the `!important` here to be able to override the\n",
              "     default hidden behavior on the sphinx rendered scikit-learn.org.\n",
              "     See: https://github.com/scikit-learn/scikit-learn/issues/21755 */\n",
              "  display: inline-block !important;\n",
              "  position: relative;\n",
              "}\n",
              "\n",
              "#sk-container-id-2 div.sk-text-repr-fallback {\n",
              "  display: none;\n",
              "}\n",
              "\n",
              "div.sk-parallel-item,\n",
              "div.sk-serial,\n",
              "div.sk-item {\n",
              "  /* draw centered vertical line to link estimators */\n",
              "  background-image: linear-gradient(var(--sklearn-color-text-on-default-background), var(--sklearn-color-text-on-default-background));\n",
              "  background-size: 2px 100%;\n",
              "  background-repeat: no-repeat;\n",
              "  background-position: center center;\n",
              "}\n",
              "\n",
              "/* Parallel-specific style estimator block */\n",
              "\n",
              "#sk-container-id-2 div.sk-parallel-item::after {\n",
              "  content: \"\";\n",
              "  width: 100%;\n",
              "  border-bottom: 2px solid var(--sklearn-color-text-on-default-background);\n",
              "  flex-grow: 1;\n",
              "}\n",
              "\n",
              "#sk-container-id-2 div.sk-parallel {\n",
              "  display: flex;\n",
              "  align-items: stretch;\n",
              "  justify-content: center;\n",
              "  background-color: var(--sklearn-color-background);\n",
              "  position: relative;\n",
              "}\n",
              "\n",
              "#sk-container-id-2 div.sk-parallel-item {\n",
              "  display: flex;\n",
              "  flex-direction: column;\n",
              "}\n",
              "\n",
              "#sk-container-id-2 div.sk-parallel-item:first-child::after {\n",
              "  align-self: flex-end;\n",
              "  width: 50%;\n",
              "}\n",
              "\n",
              "#sk-container-id-2 div.sk-parallel-item:last-child::after {\n",
              "  align-self: flex-start;\n",
              "  width: 50%;\n",
              "}\n",
              "\n",
              "#sk-container-id-2 div.sk-parallel-item:only-child::after {\n",
              "  width: 0;\n",
              "}\n",
              "\n",
              "/* Serial-specific style estimator block */\n",
              "\n",
              "#sk-container-id-2 div.sk-serial {\n",
              "  display: flex;\n",
              "  flex-direction: column;\n",
              "  align-items: center;\n",
              "  background-color: var(--sklearn-color-background);\n",
              "  padding-right: 1em;\n",
              "  padding-left: 1em;\n",
              "}\n",
              "\n",
              "\n",
              "/* Toggleable style: style used for estimator/Pipeline/ColumnTransformer box that is\n",
              "clickable and can be expanded/collapsed.\n",
              "- Pipeline and ColumnTransformer use this feature and define the default style\n",
              "- Estimators will overwrite some part of the style using the `sk-estimator` class\n",
              "*/\n",
              "\n",
              "/* Pipeline and ColumnTransformer style (default) */\n",
              "\n",
              "#sk-container-id-2 div.sk-toggleable {\n",
              "  /* Default theme specific background. It is overwritten whether we have a\n",
              "  specific estimator or a Pipeline/ColumnTransformer */\n",
              "  background-color: var(--sklearn-color-background);\n",
              "}\n",
              "\n",
              "/* Toggleable label */\n",
              "#sk-container-id-2 label.sk-toggleable__label {\n",
              "  cursor: pointer;\n",
              "  display: flex;\n",
              "  width: 100%;\n",
              "  margin-bottom: 0;\n",
              "  padding: 0.5em;\n",
              "  box-sizing: border-box;\n",
              "  text-align: center;\n",
              "  align-items: start;\n",
              "  justify-content: space-between;\n",
              "  gap: 0.5em;\n",
              "}\n",
              "\n",
              "#sk-container-id-2 label.sk-toggleable__label .caption {\n",
              "  font-size: 0.6rem;\n",
              "  font-weight: lighter;\n",
              "  color: var(--sklearn-color-text-muted);\n",
              "}\n",
              "\n",
              "#sk-container-id-2 label.sk-toggleable__label-arrow:before {\n",
              "  /* Arrow on the left of the label */\n",
              "  content: \"▸\";\n",
              "  float: left;\n",
              "  margin-right: 0.25em;\n",
              "  color: var(--sklearn-color-icon);\n",
              "}\n",
              "\n",
              "#sk-container-id-2 label.sk-toggleable__label-arrow:hover:before {\n",
              "  color: var(--sklearn-color-text);\n",
              "}\n",
              "\n",
              "/* Toggleable content - dropdown */\n",
              "\n",
              "#sk-container-id-2 div.sk-toggleable__content {\n",
              "  max-height: 0;\n",
              "  max-width: 0;\n",
              "  overflow: hidden;\n",
              "  text-align: left;\n",
              "  /* unfitted */\n",
              "  background-color: var(--sklearn-color-unfitted-level-0);\n",
              "}\n",
              "\n",
              "#sk-container-id-2 div.sk-toggleable__content.fitted {\n",
              "  /* fitted */\n",
              "  background-color: var(--sklearn-color-fitted-level-0);\n",
              "}\n",
              "\n",
              "#sk-container-id-2 div.sk-toggleable__content pre {\n",
              "  margin: 0.2em;\n",
              "  border-radius: 0.25em;\n",
              "  color: var(--sklearn-color-text);\n",
              "  /* unfitted */\n",
              "  background-color: var(--sklearn-color-unfitted-level-0);\n",
              "}\n",
              "\n",
              "#sk-container-id-2 div.sk-toggleable__content.fitted pre {\n",
              "  /* unfitted */\n",
              "  background-color: var(--sklearn-color-fitted-level-0);\n",
              "}\n",
              "\n",
              "#sk-container-id-2 input.sk-toggleable__control:checked~div.sk-toggleable__content {\n",
              "  /* Expand drop-down */\n",
              "  max-height: 200px;\n",
              "  max-width: 100%;\n",
              "  overflow: auto;\n",
              "}\n",
              "\n",
              "#sk-container-id-2 input.sk-toggleable__control:checked~label.sk-toggleable__label-arrow:before {\n",
              "  content: \"▾\";\n",
              "}\n",
              "\n",
              "/* Pipeline/ColumnTransformer-specific style */\n",
              "\n",
              "#sk-container-id-2 div.sk-label input.sk-toggleable__control:checked~label.sk-toggleable__label {\n",
              "  color: var(--sklearn-color-text);\n",
              "  background-color: var(--sklearn-color-unfitted-level-2);\n",
              "}\n",
              "\n",
              "#sk-container-id-2 div.sk-label.fitted input.sk-toggleable__control:checked~label.sk-toggleable__label {\n",
              "  background-color: var(--sklearn-color-fitted-level-2);\n",
              "}\n",
              "\n",
              "/* Estimator-specific style */\n",
              "\n",
              "/* Colorize estimator box */\n",
              "#sk-container-id-2 div.sk-estimator input.sk-toggleable__control:checked~label.sk-toggleable__label {\n",
              "  /* unfitted */\n",
              "  background-color: var(--sklearn-color-unfitted-level-2);\n",
              "}\n",
              "\n",
              "#sk-container-id-2 div.sk-estimator.fitted input.sk-toggleable__control:checked~label.sk-toggleable__label {\n",
              "  /* fitted */\n",
              "  background-color: var(--sklearn-color-fitted-level-2);\n",
              "}\n",
              "\n",
              "#sk-container-id-2 div.sk-label label.sk-toggleable__label,\n",
              "#sk-container-id-2 div.sk-label label {\n",
              "  /* The background is the default theme color */\n",
              "  color: var(--sklearn-color-text-on-default-background);\n",
              "}\n",
              "\n",
              "/* On hover, darken the color of the background */\n",
              "#sk-container-id-2 div.sk-label:hover label.sk-toggleable__label {\n",
              "  color: var(--sklearn-color-text);\n",
              "  background-color: var(--sklearn-color-unfitted-level-2);\n",
              "}\n",
              "\n",
              "/* Label box, darken color on hover, fitted */\n",
              "#sk-container-id-2 div.sk-label.fitted:hover label.sk-toggleable__label.fitted {\n",
              "  color: var(--sklearn-color-text);\n",
              "  background-color: var(--sklearn-color-fitted-level-2);\n",
              "}\n",
              "\n",
              "/* Estimator label */\n",
              "\n",
              "#sk-container-id-2 div.sk-label label {\n",
              "  font-family: monospace;\n",
              "  font-weight: bold;\n",
              "  display: inline-block;\n",
              "  line-height: 1.2em;\n",
              "}\n",
              "\n",
              "#sk-container-id-2 div.sk-label-container {\n",
              "  text-align: center;\n",
              "}\n",
              "\n",
              "/* Estimator-specific */\n",
              "#sk-container-id-2 div.sk-estimator {\n",
              "  font-family: monospace;\n",
              "  border: 1px dotted var(--sklearn-color-border-box);\n",
              "  border-radius: 0.25em;\n",
              "  box-sizing: border-box;\n",
              "  margin-bottom: 0.5em;\n",
              "  /* unfitted */\n",
              "  background-color: var(--sklearn-color-unfitted-level-0);\n",
              "}\n",
              "\n",
              "#sk-container-id-2 div.sk-estimator.fitted {\n",
              "  /* fitted */\n",
              "  background-color: var(--sklearn-color-fitted-level-0);\n",
              "}\n",
              "\n",
              "/* on hover */\n",
              "#sk-container-id-2 div.sk-estimator:hover {\n",
              "  /* unfitted */\n",
              "  background-color: var(--sklearn-color-unfitted-level-2);\n",
              "}\n",
              "\n",
              "#sk-container-id-2 div.sk-estimator.fitted:hover {\n",
              "  /* fitted */\n",
              "  background-color: var(--sklearn-color-fitted-level-2);\n",
              "}\n",
              "\n",
              "/* Specification for estimator info (e.g. \"i\" and \"?\") */\n",
              "\n",
              "/* Common style for \"i\" and \"?\" */\n",
              "\n",
              ".sk-estimator-doc-link,\n",
              "a:link.sk-estimator-doc-link,\n",
              "a:visited.sk-estimator-doc-link {\n",
              "  float: right;\n",
              "  font-size: smaller;\n",
              "  line-height: 1em;\n",
              "  font-family: monospace;\n",
              "  background-color: var(--sklearn-color-background);\n",
              "  border-radius: 1em;\n",
              "  height: 1em;\n",
              "  width: 1em;\n",
              "  text-decoration: none !important;\n",
              "  margin-left: 0.5em;\n",
              "  text-align: center;\n",
              "  /* unfitted */\n",
              "  border: var(--sklearn-color-unfitted-level-1) 1pt solid;\n",
              "  color: var(--sklearn-color-unfitted-level-1);\n",
              "}\n",
              "\n",
              ".sk-estimator-doc-link.fitted,\n",
              "a:link.sk-estimator-doc-link.fitted,\n",
              "a:visited.sk-estimator-doc-link.fitted {\n",
              "  /* fitted */\n",
              "  border: var(--sklearn-color-fitted-level-1) 1pt solid;\n",
              "  color: var(--sklearn-color-fitted-level-1);\n",
              "}\n",
              "\n",
              "/* On hover */\n",
              "div.sk-estimator:hover .sk-estimator-doc-link:hover,\n",
              ".sk-estimator-doc-link:hover,\n",
              "div.sk-label-container:hover .sk-estimator-doc-link:hover,\n",
              ".sk-estimator-doc-link:hover {\n",
              "  /* unfitted */\n",
              "  background-color: var(--sklearn-color-unfitted-level-3);\n",
              "  color: var(--sklearn-color-background);\n",
              "  text-decoration: none;\n",
              "}\n",
              "\n",
              "div.sk-estimator.fitted:hover .sk-estimator-doc-link.fitted:hover,\n",
              ".sk-estimator-doc-link.fitted:hover,\n",
              "div.sk-label-container:hover .sk-estimator-doc-link.fitted:hover,\n",
              ".sk-estimator-doc-link.fitted:hover {\n",
              "  /* fitted */\n",
              "  background-color: var(--sklearn-color-fitted-level-3);\n",
              "  color: var(--sklearn-color-background);\n",
              "  text-decoration: none;\n",
              "}\n",
              "\n",
              "/* Span, style for the box shown on hovering the info icon */\n",
              ".sk-estimator-doc-link span {\n",
              "  display: none;\n",
              "  z-index: 9999;\n",
              "  position: relative;\n",
              "  font-weight: normal;\n",
              "  right: .2ex;\n",
              "  padding: .5ex;\n",
              "  margin: .5ex;\n",
              "  width: min-content;\n",
              "  min-width: 20ex;\n",
              "  max-width: 50ex;\n",
              "  color: var(--sklearn-color-text);\n",
              "  box-shadow: 2pt 2pt 4pt #999;\n",
              "  /* unfitted */\n",
              "  background: var(--sklearn-color-unfitted-level-0);\n",
              "  border: .5pt solid var(--sklearn-color-unfitted-level-3);\n",
              "}\n",
              "\n",
              ".sk-estimator-doc-link.fitted span {\n",
              "  /* fitted */\n",
              "  background: var(--sklearn-color-fitted-level-0);\n",
              "  border: var(--sklearn-color-fitted-level-3);\n",
              "}\n",
              "\n",
              ".sk-estimator-doc-link:hover span {\n",
              "  display: block;\n",
              "}\n",
              "\n",
              "/* \"?\"-specific style due to the `<a>` HTML tag */\n",
              "\n",
              "#sk-container-id-2 a.estimator_doc_link {\n",
              "  float: right;\n",
              "  font-size: 1rem;\n",
              "  line-height: 1em;\n",
              "  font-family: monospace;\n",
              "  background-color: var(--sklearn-color-background);\n",
              "  border-radius: 1rem;\n",
              "  height: 1rem;\n",
              "  width: 1rem;\n",
              "  text-decoration: none;\n",
              "  /* unfitted */\n",
              "  color: var(--sklearn-color-unfitted-level-1);\n",
              "  border: var(--sklearn-color-unfitted-level-1) 1pt solid;\n",
              "}\n",
              "\n",
              "#sk-container-id-2 a.estimator_doc_link.fitted {\n",
              "  /* fitted */\n",
              "  border: var(--sklearn-color-fitted-level-1) 1pt solid;\n",
              "  color: var(--sklearn-color-fitted-level-1);\n",
              "}\n",
              "\n",
              "/* On hover */\n",
              "#sk-container-id-2 a.estimator_doc_link:hover {\n",
              "  /* unfitted */\n",
              "  background-color: var(--sklearn-color-unfitted-level-3);\n",
              "  color: var(--sklearn-color-background);\n",
              "  text-decoration: none;\n",
              "}\n",
              "\n",
              "#sk-container-id-2 a.estimator_doc_link.fitted:hover {\n",
              "  /* fitted */\n",
              "  background-color: var(--sklearn-color-fitted-level-3);\n",
              "}\n",
              "</style><div id=\"sk-container-id-2\" class=\"sk-top-container\"><div class=\"sk-text-repr-fallback\"><pre>MLPRegressor(hidden_layer_sizes=(8,), max_iter=1000, random_state=42)</pre><b>In a Jupyter environment, please rerun this cell to show the HTML representation or trust the notebook. <br />On GitHub, the HTML representation is unable to render, please try loading this page with nbviewer.org.</b></div><div class=\"sk-container\" hidden><div class=\"sk-item\"><div class=\"sk-estimator fitted sk-toggleable\"><input class=\"sk-toggleable__control sk-hidden--visually\" id=\"sk-estimator-id-2\" type=\"checkbox\" checked><label for=\"sk-estimator-id-2\" class=\"sk-toggleable__label fitted sk-toggleable__label-arrow\"><div><div>MLPRegressor</div></div><div><a class=\"sk-estimator-doc-link fitted\" rel=\"noreferrer\" target=\"_blank\" href=\"https://scikit-learn.org/1.6/modules/generated/sklearn.neural_network.MLPRegressor.html\">?<span>Documentation for MLPRegressor</span></a><span class=\"sk-estimator-doc-link fitted\">i<span>Fitted</span></span></div></label><div class=\"sk-toggleable__content fitted\"><pre>MLPRegressor(hidden_layer_sizes=(8,), max_iter=1000, random_state=42)</pre></div> </div></div></div></div>"
            ]
          },
          "metadata": {},
          "execution_count": 32
        }
      ]
    },
    {
      "cell_type": "code",
      "source": [
        "# 1 POINT\n",
        "# Faire des prédictions sur les données de test.\n",
        "y_pred = mlp.predict(X_test)"
      ],
      "metadata": {
        "id": "MzzXUVXN3m5b"
      },
      "execution_count": 33,
      "outputs": []
    },
    {
      "cell_type": "code",
      "source": [
        "# 1 POINT\n",
        "# Calculer et afficher l'erreur quadratique moyenne (MSE) et coefficient de détermination R^2 (le score)\n",
        "mse = mean_squared_error(y_test, y_pred)\n",
        "r2 = r2_score(y_test, y_pred)\n",
        "\n",
        "print(f\"\"\"\n",
        "Évaluation du modèle :\n",
        "-------------------------\n",
        "Erreur quadratique moyenne (MSE) : {mse:.4f}\n",
        "Score R² : {r2:.4f}\n",
        "\"\"\")"
      ],
      "metadata": {
        "id": "LZTCM8ug5wIY",
        "colab": {
          "base_uri": "https://localhost:8080/"
        },
        "outputId": "9777aa9b-bb7e-4f91-9824-1c8b319bdb4c"
      },
      "execution_count": 34,
      "outputs": [
        {
          "output_type": "stream",
          "name": "stdout",
          "text": [
            "\n",
            "Évaluation du modèle :\n",
            "-------------------------\n",
            "Erreur quadratique moyenne (MSE) : 0.0203\n",
            "Score R² : 0.9884\n",
            "\n"
          ]
        }
      ]
    },
    {
      "cell_type": "code",
      "source": [
        "# Tester individuellement le model avec .predict.\n",
        "# Le paramètre est un tableau 2 dimensions qui contient 1 ligne, et 8 caractéristiques valant 0 ou 1.\n",
        "# Le résultat doit donner une bonne approximation du nombre de voisins.\n",
        "# Arrondi des prédictions pour obtenir un nombre entier de voisins\n",
        "def tester_mlp(modele, test_cases):\n",
        "    print(\"\\n Test du modèle sur différentes combinaisons de voisins :\\n\")\n",
        "    for test in test_cases:\n",
        "        prediction = modele.predict([test])[0]\n",
        "        print(f\" Entrée: {test}  |  Prédiction MLP: {prediction:.2f}\")\n",
        "test_cases = [\n",
        "    [i, j, k, l, m, n, o, p]\n",
        "    for (i, j, k, l, m, n, o, p) in [\n",
        "        (0,0,0,0,0,0,0,0),\n",
        "        (0,0,1,0,0,0,0,0),\n",
        "        (0,0,0,1,0,1,0,0),\n",
        "        (0,1,0,1,1,0,0,0),\n",
        "        (1,0,1,0,1,0,1,0),\n",
        "        (0,1,1,0,1,1,1,0),\n",
        "        (1,1,0,1,1,1,0,1),\n",
        "        (1,1,1,1,0,1,1,1),\n",
        "        (1,1,1,1,1,1,1,1),\n",
        "    ]\n",
        "]\n",
        "\n",
        "# Exécution des tests\n",
        "tester_mlp(mlp, test_cases)\n"
      ],
      "metadata": {
        "id": "l6KfhT3Y5wOj",
        "colab": {
          "base_uri": "https://localhost:8080/"
        },
        "outputId": "c3174f2c-5740-4a46-83d2-26ae46d52899"
      },
      "execution_count": 16,
      "outputs": [
        {
          "output_type": "stream",
          "name": "stdout",
          "text": [
            "Entrée: [0, 0, 0, 0, 0, 0, 0, 0] => Prédiction MLP (arrondie): 0\n",
            "Entrée: [0, 0, 1, 0, 0, 0, 0, 0] => Prédiction MLP (arrondie): 1\n",
            "Entrée: [0, 0, 0, 1, 0, 1, 0, 0] => Prédiction MLP (arrondie): 2\n",
            "Entrée: [0, 1, 0, 1, 1, 0, 0, 0] => Prédiction MLP (arrondie): 3\n",
            "Entrée: [1, 0, 1, 0, 1, 0, 1, 0] => Prédiction MLP (arrondie): 4\n",
            "Entrée: [0, 1, 1, 0, 1, 1, 1, 0] => Prédiction MLP (arrondie): 5\n",
            "Entrée: [1, 1, 0, 1, 1, 1, 0, 1] => Prédiction MLP (arrondie): 6\n",
            "Entrée: [1, 1, 1, 1, 0, 1, 1, 1] => Prédiction MLP (arrondie): 7\n",
            "Entrée: [1, 1, 1, 1, 1, 1, 1, 1] => Prédiction MLP (arrondie): 8\n"
          ]
        }
      ]
    },
    {
      "cell_type": "markdown",
      "source": [
        "Ceci termine votre modèle de RDN - MLP. Assurez-vous qu'il soit fonctionnel avant de l'appeler dans le jeu de la vie."
      ],
      "metadata": {
        "id": "uo25GDVK6QWI"
      }
    },
    {
      "cell_type": "markdown",
      "source": [
        "## Jeu de la vie\n",
        "\n",
        "(8 points)"
      ],
      "metadata": {
        "id": "W4HAIkD46hCW"
      }
    },
    {
      "cell_type": "code",
      "source": [
        "# Importation des librairies.\n",
        "import numpy as np\n",
        "import matplotlib.animation as animation\n",
        "import matplotlib.pyplot as plt"
      ],
      "metadata": {
        "id": "8MFOBG915wVJ"
      },
      "execution_count": 1,
      "outputs": []
    },
    {
      "cell_type": "code",
      "source": [
        "# Déclaration des constantes\n",
        "MORT = 0\n",
        "VIVANT = 1\n",
        "TAILLE = 100\n",
        "NB_GENERATION = 60\n",
        "MODE_STANDARD = 0\n",
        "MODE_NEURAL = 1\n",
        "\n",
        "# Assignez mode à MODE_STANDARD ou MODE_NEURAL, selon le mode d'exécution attendu.\n",
        "mode = MODE_STANDARD"
      ],
      "metadata": {
        "id": "P2fk2TBBeGFx"
      },
      "execution_count": 2,
      "outputs": []
    },
    {
      "cell_type": "code",
      "source": [
        "# 1 POINT\n",
        "# Initialisation de toutes les cellules de la grille à des 0 ou des 1.\n",
        "# Une seule instruction requise.\n",
        "# Nommez la variable (un tableau 2d): grille\n",
        "def initialiser_grille(taille):\n",
        "    return np.random.randint(0, 2, (taille, taille))\n",
        "grille = initialiser_grille(TAILLE)"
      ],
      "metadata": {
        "id": "cCyHoGnk6_9k"
      },
      "execution_count": 3,
      "outputs": []
    },
    {
      "cell_type": "code",
      "source": [
        "# Affiche le graphique\n",
        "fig, ax = plt.subplots()\n",
        "im = plt.imshow(grille);"
      ],
      "metadata": {
        "id": "5qAa4g8v7AEs",
        "colab": {
          "base_uri": "https://localhost:8080/",
          "height": 433
        },
        "outputId": "a8b4d185-eabc-4675-a17a-91996514543b"
      },
      "execution_count": 4,
      "outputs": [
        {
          "output_type": "display_data",
          "data": {
            "text/plain": [
              "<Figure size 640x480 with 1 Axes>"
            ],
            "image/png": "[encoded data removed]"
          },
          "metadata": {}
        }
      ]
    },
    {
      "cell_type": "code",
      "source": [
        "# 2 POINTS\n",
        "# Foncion \"voisin\" qui compte et retourne le nombre de voisins.\n",
        "# C'est la fonction appellée par le mode MODE_STANDARD.\n",
        "# Elle recoit i,j la position de la cellule dans la grille ou il faut compter le nombre de voisin (VIVANT)\n",
        "\n",
        "def compter_voisins(grille, i, j):\n",
        "    voisins = [\n",
        "        grille[i + x, j + y]\n",
        "        for x in [-1, 0, 1] for y in [-1, 0, 1]\n",
        "        if (x, y) != (0, 0) and 0 <= i + x < TAILLE and 0 <= j + y < TAILLE\n",
        "    ]\n",
        "    return sum(voisins)"
      ],
      "metadata": {
        "id": "TuBnJdgq7AJB"
      },
      "execution_count": 5,
      "outputs": []
    },
    {
      "cell_type": "code",
      "source": [
        "# 2 POINTS\n",
        "# Foncion \"voisin_mlp\" qui compte et retourne le nombre de voisins, mais en mode MODE_NEURAL.\n",
        "# Elle compte le nombre de voisin en faisant appel à la fonction mlp.predict() du modèle entraîné plus haut.\n",
        "# Elle recoit i,j la position de la cellule dans la grille ou il faut compter le nombre de voisin (VIVANT)\n",
        "\n",
        "def compter_voisins_mlp(grille, i, j, mlp):\n",
        "    voisins_binaires = [\n",
        "        1 if (0 <= i + x < TAILLE and 0 <= j + y < TAILLE and grille[i + x, j + y] == VIVANT) else 0\n",
        "        for x in [-1, 0, 1] for y in [-1, 0, 1] if (x, y) != (0, 0)\n",
        "    ]\n",
        "    return round(mlp.predict([voisins_binaires])[0])\n",
        "\n"
      ],
      "metadata": {
        "id": "slxMzeIc7AOA"
      },
      "execution_count": 6,
      "outputs": []
    },
    {
      "cell_type": "code",
      "source": [
        "# 3 POINTS\n",
        "# Calcul la génération de cellules suivante\n",
        "def generer_nouvelle_grille(grille, mlp=None):\n",
        "    nouvelle_grille = grille.copy()\n",
        "    for i in range(TAILLE):\n",
        "        for j in range(TAILLE):\n",
        "            nb_voisins = (\n",
        "                compter_voisins(grille, i, j)\n",
        "                if mode == MODE_STANDARD\n",
        "                else compter_voisins_mlp(grille, i, j, mlp)\n",
        "            )\n",
        "\n",
        "            if grille[i, j] == VIVANT and (nb_voisins < 2 or nb_voisins > 3):\n",
        "                nouvelle_grille[i, j] = MORT\n",
        "            elif grille[i, j] == MORT and nb_voisins == 3:\n",
        "                nouvelle_grille[i, j] = VIVANT\n",
        "    return nouvelle_grille"
      ],
      "metadata": {
        "id": "xoVBXGKk7ASF"
      },
      "execution_count": 7,
      "outputs": []
    },
    {
      "cell_type": "code",
      "execution_count": 8,
      "metadata": {
        "id": "ev4il7MsfWlW",
        "colab": {
          "base_uri": "https://localhost:8080/",
          "height": 433
        },
        "outputId": "e58737d7-63a7-4227-96ff-13bc8c1ec24e"
      },
      "outputs": [
        {
          "output_type": "display_data",
          "data": {
            "text/plain": [
              "<Figure size 640x480 with 1 Axes>"
            ],
            "image/png": "[encoded data removed]"
          },
          "metadata": {}
        }
      ],
      "source": [
        "# Autres instructions importantes pour la mise à jour du tableau et la gestion de l'animation\n",
        "\n",
        "# Fonction d'initialisation de l'animation\n",
        "fig, ax = plt.subplots()\n",
        "image = ax.imshow(grille, cmap=\"gray\")\n",
        "\n",
        "def mise_a_jour(_):\n",
        "    global grille\n",
        "    grille = generer_nouvelle_grille(grille)\n",
        "    image.set_array(grille)\n",
        "    return [image]\n",
        "\n",
        "ani = animation.FuncAnimation(fig, mise_a_jour, frames=NB_GENERATION, interval=100)\n",
        "plt.show()\n",
        "\n"
      ]
    }
  ],
  "metadata": {
    "colab": {
      "provenance": [],
      "include_colab_link": true
    },
    "kernelspec": {
      "display_name": "Python 3",
      "name": "python3"
    }
  },
  "nbformat": 4,
  "nbformat_minor": 0
}